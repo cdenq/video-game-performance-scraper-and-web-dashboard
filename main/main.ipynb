{
 "cells": [
  {
   "attachments": {},
   "cell_type": "markdown",
   "metadata": {},
   "source": [
    "# Stats Tracker"
   ]
  },
  {
   "attachments": {},
   "cell_type": "markdown",
   "metadata": {},
   "source": [
    "## Setup"
   ]
  },
  {
   "attachments": {},
   "cell_type": "markdown",
   "metadata": {},
   "source": [
    "### Imports"
   ]
  },
  {
   "cell_type": "code",
   "execution_count": 14,
   "metadata": {},
   "outputs": [],
   "source": [
    "import requests\n",
    "import pandas as pd\n",
    "import numpy as np\n",
    "import math\n",
    "from itertools import combinations\n",
    "import pyautogui"
   ]
  },
  {
   "attachments": {},
   "cell_type": "markdown",
   "metadata": {},
   "source": [
    "### Global Variables"
   ]
  },
  {
   "cell_type": "code",
   "execution_count": 4,
   "metadata": {},
   "outputs": [],
   "source": [
    "assist_rate = 0.5\n",
    "tar_win_rate = 0.7\n",
    "tar_kda = 3\n",
    "max_games = 10"
   ]
  },
  {
   "attachments": {},
   "cell_type": "markdown",
   "metadata": {},
   "source": [
    "## Functions"
   ]
  },
  {
   "attachments": {},
   "cell_type": "markdown",
   "metadata": {},
   "source": [
    "### Update Champ Dictionary"
   ]
  },
  {
   "cell_type": "code",
   "execution_count": 5,
   "metadata": {},
   "outputs": [],
   "source": [
    "def update_champs():\n",
    "    champ_url = 'https://api.paladins.guru/v3/champions'\n",
    "    champs = requests.get(champ_url).json()\n",
    "\n",
    "    # Creating Champion ID - Name dictionary\n",
    "    champ_dict = {\n",
    "        \"Name\": [],\n",
    "        \"Class\": [],\n",
    "        \"ID\": []\n",
    "    }\n",
    "    for i in champs:\n",
    "        if champs[i]['class'] == \"Flanker\":\n",
    "            class_text = \"Flank\"\n",
    "        else:\n",
    "            class_text = champs[i]['class']\n",
    "            \n",
    "        champ_dict[\"Name\"].append(champs[i]['name'])\n",
    "        champ_dict[\"Class\"].append(class_text)\n",
    "        champ_dict[\"ID\"].append(str(champs[i]['id']))\n",
    "\n",
    "    champ_directory = pd.DataFrame(champ_dict)\n",
    "    champ_directory.to_csv(\"champ_directory.csv\", index=False)\n",
    "    return"
   ]
  },
  {
   "attachments": {},
   "cell_type": "markdown",
   "metadata": {},
   "source": [
    "### Update Stats"
   ]
  },
  {
   "cell_type": "code",
   "execution_count": 7,
   "metadata": {},
   "outputs": [],
   "source": [
    "def update_stats(url):\n",
    "    saved = url.split(\"-\")[1]\n",
    "\n",
    "    stats_url = f\"https://api.paladins.guru/v3/profiles/{url}/champions\"\n",
    "    stats = requests.get(stats_url).json()\n",
    "\n",
    "    champ_dict = pd.read_csv(\"champ_directory.csv\")\n",
    "    champ_dict[\"ID\"] = champ_dict[\"ID\"].astype(str)\n",
    "\n",
    "    data = []\n",
    "    tracked_champs = set()\n",
    "    for i in stats[\"champions\"][\"-1\"]:\n",
    "        champ_template = {}\n",
    "\n",
    "        # Calculate vars for easy access\n",
    "        champ_sheet = stats[\"champions\"][\"-1\"][i][\"total\"]\n",
    "        w_left = math.ceil((champ_sheet['wins']*(tar_win_rate - 1) + (tar_win_rate * champ_sheet['losses']))/(1 - tar_win_rate))\n",
    "        k_Left = math.ceil(-1 * (champ_sheet['kills'] + assist_rate*champ_sheet['assists'] - (tar_kda * champ_sheet['deaths'])))\n",
    "        if w_left <= 0 and k_Left <= 0:\n",
    "            kw_left = \"-\"\n",
    "        elif w_left <= 0:\n",
    "            kw_left = k_Left\n",
    "        elif k_Left <= 0:\n",
    "            kw_left = f\"0/{w_left}\"\n",
    "        else:\n",
    "            kw_left = k_Left/w_left\n",
    "        kda = (champ_sheet['kills'] + assist_rate*champ_sheet['assists'])/champ_sheet['deaths']\n",
    "        cpm = champ_sheet['gold']/champ_sheet['playtime']\n",
    "        games = champ_sheet['wins'] + champ_sheet['losses']\n",
    "        wr = champ_sheet['wins']/games\n",
    "\n",
    "        # Calculate time\n",
    "        t = champ_sheet['playtime']\n",
    "        if t < 60:\n",
    "            playtime = f\"{t}m\"\n",
    "        elif t == 60:\n",
    "            playtime = f\"{t}h\"\n",
    "        else:\n",
    "            playtime = f\"{t//60}h {t%60}m\"\n",
    "\n",
    "        # Calculate score\n",
    "        score = (cpm*wr*kda*np.log(games))\n",
    "\n",
    "        # Calculate games_left\n",
    "        limit_games = max_games - games\n",
    "        if limit_games < 0:\n",
    "            limit_games = 0\n",
    "        if limit_games < w_left:\n",
    "            limit_games = w_left\n",
    "\n",
    "        # BYPASS TO FIX NULLS\n",
    "        try:\n",
    "            healing_fix = champ_sheet['healing']\n",
    "        except:\n",
    "            healing_fix = 0\n",
    "\n",
    "        try:\n",
    "            self_healing_fix = champ_sheet['self_healing']\n",
    "        except:\n",
    "            self_healing_fix = 0\n",
    "\n",
    "        try:\n",
    "            obj_fix = champ_sheet['objective_time']\n",
    "        except:\n",
    "            obj_fix = 0\n",
    "        # Create dictionary\n",
    "        champ_template = {\n",
    "            'ID': champ_sheet['id'],\n",
    "            'Score': round(score,3),\n",
    "            'Name': champ_dict[champ_dict[\"ID\"] == champ_sheet['id']][\"Name\"].values[0],\n",
    "            'Role': champ_dict[champ_dict[\"ID\"] == champ_sheet['id']][\"Class\"].values[0],\n",
    "            'Games': games,\n",
    "            'WR': round(wr,3),\n",
    "            'KDA': round(kda,3),\n",
    "            'G Left': limit_games,\n",
    "            'W Left': w_left,\n",
    "            'K Left': k_Left,\n",
    "            'K/W Left': kw_left,\n",
    "            'CPM': round(cpm,3),\n",
    "            'DPM': round(champ_sheet['damage']/champ_sheet['playtime'],3),\n",
    "            'HPM': round(healing_fix/champ_sheet['playtime'],3),\n",
    "            'eHPM': round((healing_fix + self_healing_fix)/champ_sheet['playtime'],3),\n",
    "            'SPM': round(champ_sheet['mitigated']/champ_sheet['playtime'],3),\n",
    "            'OPM': round(obj_fix/champ_sheet['playtime'],3),\n",
    "            'Playtime': playtime,\n",
    "            'K/M': round(champ_sheet['kills']/champ_sheet['playtime'],3),\n",
    "            'D/M': round(champ_sheet['deaths']/champ_sheet['playtime'],3),\n",
    "            'A/M': round(champ_sheet['assists']/champ_sheet['playtime'],3),\n",
    "            'Dt/M': round(champ_sheet['taken']/champ_sheet['playtime'],3),\n",
    "            'wD/tD': round(champ_sheet['in_hand']/champ_sheet['damage'],3),\n",
    "            'sD/tD': round(1 - champ_sheet['in_hand']/champ_sheet['damage'],3),\n",
    "            'Playtime (Min)': champ_sheet['playtime'],\n",
    "            'Credits': champ_sheet['gold'],\n",
    "            'Kills': champ_sheet['kills'],\n",
    "            'Deaths': champ_sheet['deaths'],\n",
    "            'Assists': champ_sheet['assists'],\n",
    "            'Total Damage': champ_sheet['damage'],\n",
    "            'Weapon Damage': champ_sheet['in_hand'],\n",
    "            'Taken': champ_sheet['taken'],\n",
    "            'Shielding': champ_sheet['mitigated'],\n",
    "            'Healing': healing_fix,\n",
    "            'Healing (Self)': self_healing_fix,\n",
    "            'Wins': champ_sheet['wins'],\n",
    "            'Losses': champ_sheet['losses'],\n",
    "            'Objective Time': obj_fix\n",
    "        }\n",
    "        data.append(champ_template)\n",
    "        tracked_champs.add(champ_template[\"Name\"])\n",
    "\n",
    "    untracked = set(champ_dict[\"Name\"]) - tracked_champs\n",
    "    for i in untracked:\n",
    "        champ_template = {\n",
    "            'ID': champ_dict[champ_dict[\"ID\"].index == champ_dict[champ_dict[\"Name\"] == i].index[0]][\"ID\"].values[0],\n",
    "            'Score': 0,\n",
    "            'Name': i,\n",
    "            'Role': champ_dict[champ_dict[\"Class\"].index == champ_dict[champ_dict[\"Name\"] == i].index[0]][\"Class\"].values[0],\n",
    "            'Games': 0,\n",
    "            'WR': 0,\n",
    "            'KDA': 0,\n",
    "            'G Left': max_games,\n",
    "            'W Left': 0,\n",
    "            'K Left': 0,\n",
    "            'K/W Left': 0,\n",
    "            'CPM': 0,\n",
    "            'DPM': 0,\n",
    "            'HPM': 0,\n",
    "            'eHPM': 0,\n",
    "            'SPM': 0,\n",
    "            'OPM': 0,\n",
    "            'Playtime': 0,\n",
    "            'K/M': 0,\n",
    "            'D/M': 0,\n",
    "            'A/M': 0,\n",
    "            'Dt/M': 0,\n",
    "            'wD/tD': 0,\n",
    "            'sD/tD': 0,\n",
    "            'Playtime (Min)': 0,\n",
    "            'Credits': 0,\n",
    "            'Kills': 0,\n",
    "            'Deaths': 0,\n",
    "            'Assists': 0,\n",
    "            'Total Damage': 0,\n",
    "            'Weapon Damage': 0,\n",
    "            'Taken': 0,\n",
    "            'Shielding': 0,\n",
    "            'Healing': 0,\n",
    "            'Healing (Self)': 0,\n",
    "            'Wins': 0,\n",
    "            'Losses': 0,\n",
    "            'Objective Time': 0\n",
    "        }\n",
    "        data.append(champ_template)\n",
    "\n",
    "    df = pd.DataFrame(data)\n",
    "    df = df.sort_values(by=[\"G Left\", \"W Left\", \"K Left\"], ascending=False)\n",
    "    df.to_csv(f'paladins_data_{saved}.csv', index=False)\n",
    "    print(\"Done!\")\n",
    "    return"
   ]
  },
  {
   "attachments": {},
   "cell_type": "markdown",
   "metadata": {},
   "source": [
    "### Matches Left Checker"
   ]
  },
  {
   "cell_type": "code",
   "execution_count": 8,
   "metadata": {},
   "outputs": [],
   "source": [
    "def check_matches(wr, matches):\n",
    "    wins = round(matches * wr/100)\n",
    "    losses = matches - wins\n",
    "    wins_needed = (tar_win_rate*losses - (1-tar_win_rate)*wins)/(1-tar_win_rate)\n",
    "    actual_wins_needed = int(-(-wins_needed // 1))\n",
    "    print(actual_wins_needed)\n",
    "    return"
   ]
  },
  {
   "attachments": {},
   "cell_type": "markdown",
   "metadata": {},
   "source": [
    "### ELO Balancer"
   ]
  },
  {
   "cell_type": "code",
   "execution_count": 10,
   "metadata": {},
   "outputs": [],
   "source": [
    "# IF DUPLICATE VALUE, +1 to one of the dupes to prevent error\n",
    "def check_dup(data):\n",
    "    iter = sorted(list(data.values()))\n",
    "    for i in range(len(iter)-1):\n",
    "        if iter[i] == iter[i+1]:\n",
    "            print(f\"DUPE - {iter[i]}\")\n",
    "            return\n",
    "    print(\"no dupe\")\n",
    "    return\n",
    "\n",
    "def get_complement(tuple):\n",
    "    total_set = list(data.values())\n",
    "    for i in tuple:\n",
    "        if i in total_set:\n",
    "            total_set.pop(total_set.index(i))\n",
    "    return total_set\n",
    "\n",
    "def get_complement_team(values):\n",
    "    total_set = list(data.keys())\n",
    "    for i in values:\n",
    "        if i in total_set:\n",
    "            total_set.remove(i)\n",
    "    return total_set\n",
    "\n",
    "def avg(list):\n",
    "    return sum(list)/len(list)\n",
    "\n",
    "def get_key(v):\n",
    "    return [i for i in data if data[i]==v][0]\n",
    "\n",
    "def get_elo(data):\n",
    "    check_dup(data)\n",
    "    all_combos = list(combinations(data.values(), 5))\n",
    "    answers = []\n",
    "    for i, v in enumerate(all_combos):\n",
    "        answers.append((i, abs(avg(v) - avg(get_complement(v)))))\n",
    "    sort_ans = sorted(answers, key=lambda x: x[1])\n",
    "    best_team = all_combos[sort_ans[0][0]]\n",
    "    names = [get_key(i) for i in best_team]\n",
    "\n",
    "    print(f\"Difference: {round(sort_ans[0][1],2)}\")\n",
    "    print(names)\n",
    "    print(get_complement_team(names))\n",
    "    return"
   ]
  },
  {
   "attachments": {},
   "cell_type": "markdown",
   "metadata": {},
   "source": [
    "### Loadout Importer"
   ]
  },
  {
   "cell_type": "code",
   "execution_count": 16,
   "metadata": {},
   "outputs": [],
   "source": [
    "# NOTE you must have tofucookies prepopulated in search\n",
    "\n",
    "tofu_pos = (853, 465) #1st position\n",
    "tofu_pos = (853, 420) #2nd position\n",
    "\n",
    "def import_loadouts():\n",
    "    button_pos = [(1073, 937), (635, 935), (950, 608), (1159, 624), tofu_pos, (861, 842), (842, 943)]\n",
    "    button_tag = [\"clear all\", \"import\", \"search by name\", \"search\", \"click tofucookies\", \"import\", \"save and exit\"]\n",
    "    loadout_pos = [(310, 400), (730, 400), (310, 620), (730, 620), (310, 840), (730, 840)]\n",
    "    for i in range(len(loadout_pos)):\n",
    "        # print(f\"click loadout {i+1}\")\n",
    "        pyautogui.click(loadout_pos[i][0], loadout_pos[i][1]) # click arrow\n",
    "        pyautogui.PAUSE = global_cd\n",
    "        for j in range(len(button_pos)):\n",
    "            if j == 5: # if on the coords corresponding to clicking \"import\" button \n",
    "                if i == 0:\n",
    "                    # print(\"no arrow clicks\")\n",
    "                    pass\n",
    "                else:\n",
    "                    for k in range(i):\n",
    "                        # print(f\"arrow click {k}\")\n",
    "                        pyautogui.click(1029, 739) # click arrow\n",
    "                        pyautogui.PAUSE = arrow_cd\n",
    "            # print(button_tag[j])\n",
    "            pyautogui.click(button_pos[j][0], button_pos[j][1])\n",
    "            pyautogui.PAUSE = global_cd\n",
    "    # print(\"completed\")\n",
    "    return\n",
    "\n",
    "def champ_char_pane_navigate(row, col):\n",
    "    # print(f\"click {col+1} champ on {row+1} row\")\n",
    "    pyautogui.click(120+(120*col), 300+(120*row))\n",
    "    pyautogui.PAUSE = global_cd\n",
    "    pyautogui.click(1159, 84) # click loadout menu\n",
    "    pyautogui.PAUSE = global_cd\n",
    "    import_loadouts()\n",
    "    pyautogui.PAUSE = global_cd\n",
    "    pyautogui.click(47, 45) # return to champ screen\n",
    "    print(f\"done with {col+1} champ on {row+1} row\")\n",
    "    return\n",
    "\n",
    "def champ_menu_navigate(total_row, total_col):\n",
    "    for row in range(total_row):\n",
    "        if row == total_row - 1: # on last row\n",
    "            for col in range(total_col):\n",
    "                champ_char_pane_navigate(row, col)\n",
    "        else:\n",
    "            for col in range(8):\n",
    "                champ_char_pane_navigate(row, col)\n",
    "    print(\"done w all\")\n",
    "    return"
   ]
  },
  {
   "attachments": {},
   "cell_type": "markdown",
   "metadata": {},
   "source": [
    "### Reporter"
   ]
  },
  {
   "cell_type": "code",
   "execution_count": null,
   "metadata": {},
   "outputs": [],
   "source": []
  },
  {
   "attachments": {},
   "cell_type": "markdown",
   "metadata": {},
   "source": [
    "## Script"
   ]
  },
  {
   "cell_type": "code",
   "execution_count": 13,
   "metadata": {},
   "outputs": [],
   "source": [
    "update_champs()"
   ]
  },
  {
   "cell_type": "code",
   "execution_count": null,
   "metadata": {},
   "outputs": [],
   "source": [
    "update_stats(\"4894277-TofuCookies\")\n",
    "# update_stats(\"4962808-TofuUdon\")"
   ]
  },
  {
   "cell_type": "code",
   "execution_count": null,
   "metadata": {},
   "outputs": [],
   "source": [
    "check_matches(69.78, 234)"
   ]
  },
  {
   "cell_type": "code",
   "execution_count": null,
   "metadata": {},
   "outputs": [],
   "source": [
    "data = {\n",
    "    \"TofuAelish\": 1687,\n",
    "    \"TofuCookies\": 1716,\n",
    "    \"TofuUdon\": 1566,\n",
    "    \"nickcagefan423\": 1181,\n",
    "    \"ubisoftreject\": 1198,\n",
    "    \"BubbIeTea\": 1340,\n",
    "    \"GustaBoosta\": 1616,\n",
    "    \"TofuShake\": 1867,\n",
    "    \"latamplayername\": 1461,\n",
    "    \"lowrez999\": 1199\n",
    "}\n",
    "get_elo(data)"
   ]
  },
  {
   "cell_type": "code",
   "execution_count": 11,
   "metadata": {},
   "outputs": [],
   "source": [
    "global_cd = .6\n",
    "arrow_cd = .25\n",
    "\n",
    "champ_menu_navigate(2,6)"
   ]
  },
  {
   "cell_type": "code",
   "execution_count": null,
   "metadata": {},
   "outputs": [],
   "source": [
    "import_loadouts()"
   ]
  }
 ],
 "metadata": {
  "kernelspec": {
   "display_name": "base",
   "language": "python",
   "name": "python3"
  },
  "language_info": {
   "codemirror_mode": {
    "name": "ipython",
    "version": 3
   },
   "file_extension": ".py",
   "mimetype": "text/x-python",
   "name": "python",
   "nbconvert_exporter": "python",
   "pygments_lexer": "ipython3",
   "version": "3.9.16"
  },
  "orig_nbformat": 4
 },
 "nbformat": 4,
 "nbformat_minor": 2
}
